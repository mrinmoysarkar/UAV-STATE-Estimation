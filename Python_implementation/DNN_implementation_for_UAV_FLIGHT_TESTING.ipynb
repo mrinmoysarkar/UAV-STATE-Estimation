{
 "cells": [
  {
   "cell_type": "code",
   "execution_count": 11,
   "metadata": {},
   "outputs": [],
   "source": [
    "import tensorflow as tf\n",
    "import pandas as pd\n",
    "import numpy as np\n",
    "from sklearn.preprocessing import MultiLabelBinarizer, MinMaxScaler, Binarizer, OneHotEncoder\n",
    "import matplotlib.pyplot as plt\n",
    "from tensorflow.keras import layers\n",
    "from tensorflow.python.keras.callbacks import TensorBoard\n",
    "from time import time\n",
    "from tensorflow.python.client import device_lib\n"
   ]
  },
  {
   "cell_type": "code",
   "execution_count": 12,
   "metadata": {},
   "outputs": [
    {
     "name": "stdout",
     "output_type": "stream",
     "text": [
      "[name: \"/device:CPU:0\"\n",
      "device_type: \"CPU\"\n",
      "memory_limit: 268435456\n",
      "locality {\n",
      "}\n",
      "incarnation: 7111703359774464467\n",
      ", name: \"/device:GPU:0\"\n",
      "device_type: \"GPU\"\n",
      "memory_limit: 9105644585\n",
      "locality {\n",
      "  bus_id: 1\n",
      "  links {\n",
      "  }\n",
      "}\n",
      "incarnation: 17395866042137418858\n",
      "physical_device_desc: \"device: 0, name: GeForce RTX 2080 Ti, pci bus id: 0000:04:00.0, compute capability: 7.5\"\n",
      "]\n"
     ]
    }
   ],
   "source": [
    "print(device_lib.list_local_devices())"
   ]
  },
  {
   "cell_type": "code",
   "execution_count": 2,
   "metadata": {},
   "outputs": [],
   "source": [
    "data = pd.read_csv(\"dataset1.csv\",names=['h','vx','vy','vz','label'],header=None)\n",
    "data = data.dropna()"
   ]
  },
  {
   "cell_type": "code",
   "execution_count": 3,
   "metadata": {},
   "outputs": [],
   "source": [
    "# data.head()"
   ]
  },
  {
   "cell_type": "code",
   "execution_count": 4,
   "metadata": {},
   "outputs": [],
   "source": [
    "# data.plot()"
   ]
  },
  {
   "cell_type": "code",
   "execution_count": 5,
   "metadata": {},
   "outputs": [],
   "source": [
    "def one_hot_labels(labels,classes):\n",
    "    n = labels.size\n",
    "    newlabels = np.zeros([n,classes])\n",
    "    for i in range(n):\n",
    "        newlabels[i,labels[i]-1]=1\n",
    "    return newlabels"
   ]
  },
  {
   "cell_type": "code",
   "execution_count": 6,
   "metadata": {},
   "outputs": [],
   "source": [
    "scaler = MinMaxScaler()\n",
    "X=data.iloc[:,0:4].values\n",
    "X = scaler.fit_transform(X)\n",
    "y=data['label'].values\n",
    "labels = one_hot_labels(y,5)"
   ]
  },
  {
   "cell_type": "code",
   "execution_count": 17,
   "metadata": {},
   "outputs": [],
   "source": [
    "config = tf.ConfigProto( device_count = {'GPU': 1 , 'CPU': 56} ) \n",
    "sess = tf.Session(config=config) \n",
    "tf.keras.backend.set_session(sess)"
   ]
  },
  {
   "cell_type": "code",
   "execution_count": 19,
   "metadata": {},
   "outputs": [
    {
     "name": "stdout",
     "output_type": "stream",
     "text": [
      "Epoch 1/10\n",
      "1001/1001 [==============================] - 0s 168us/step - loss: 1.5931 - categorical_accuracy: 0.0500\n",
      "Epoch 2/10\n",
      "1001/1001 [==============================] - 0s 32us/step - loss: 1.5845 - categorical_accuracy: 0.0619\n",
      "Epoch 3/10\n",
      "1001/1001 [==============================] - 0s 33us/step - loss: 1.5718 - categorical_accuracy: 0.1309\n",
      "Epoch 4/10\n",
      "1001/1001 [==============================] - 0s 30us/step - loss: 1.5544 - categorical_accuracy: 0.3736\n",
      "Epoch 5/10\n",
      "1001/1001 [==============================] - 0s 32us/step - loss: 1.5307 - categorical_accuracy: 0.6983\n",
      "Epoch 6/10\n",
      "1001/1001 [==============================] - 0s 33us/step - loss: 1.4994 - categorical_accuracy: 0.7233\n",
      "Epoch 7/10\n",
      "1001/1001 [==============================] - 0s 32us/step - loss: 1.4585 - categorical_accuracy: 0.6943\n",
      "Epoch 8/10\n",
      "1001/1001 [==============================] - 0s 33us/step - loss: 1.4028 - categorical_accuracy: 0.6883\n",
      "Epoch 9/10\n",
      "1001/1001 [==============================] - 0s 34us/step - loss: 1.3324 - categorical_accuracy: 0.6823\n",
      "Epoch 10/10\n",
      "1001/1001 [==============================] - 0s 31us/step - loss: 1.2482 - categorical_accuracy: 0.6833\n"
     ]
    }
   ],
   "source": [
    "tensorboard = TensorBoard(log_dir='./temp/{}'.format(time()))\n",
    "with tf.name_scope('summaries'):\n",
    "    model = tf.keras.Sequential()\n",
    "    model.add(layers.Dense(64, activation='relu'))\n",
    "    model.add(layers.Dense(64, activation='relu'))\n",
    "    model.add(layers.Dense(64, activation='relu'))\n",
    "    model.add(layers.Dense(5, activation='softmax'))\n",
    "    model.compile(optimizer=tf.train.RMSPropOptimizer(0.001),\n",
    "                  loss=tf.keras.losses.categorical_crossentropy,\n",
    "                  metrics=[tf.keras.metrics.categorical_accuracy])\n",
    "    model.fit(X, labels, epochs=10, batch_size=128,callbacks=[tensorboard])\n",
    "   "
   ]
  },
  {
   "cell_type": "code",
   "execution_count": null,
   "metadata": {},
   "outputs": [],
   "source": [
    "\n"
   ]
  },
  {
   "cell_type": "code",
   "execution_count": 8,
   "metadata": {},
   "outputs": [],
   "source": [
    "data1 = pd.read_csv(\"dataset10.csv\",names=['h','vx','vy','vz','label'],header=None)\n",
    "data1 = data.dropna()"
   ]
  },
  {
   "cell_type": "code",
   "execution_count": 9,
   "metadata": {},
   "outputs": [],
   "source": [
    "X1=data1.iloc[:,0:4].values\n",
    "X1 = scaler.transform(X1)\n",
    "y1=data1['label'].values\n",
    "labels1 = one_hot_labels(y1,5)"
   ]
  },
  {
   "cell_type": "code",
   "execution_count": 10,
   "metadata": {},
   "outputs": [
    {
     "name": "stdout",
     "output_type": "stream",
     "text": [
      "1001/1001 [==============================] - 0s 49us/step\n"
     ]
    },
    {
     "data": {
      "text/plain": [
       "[1.2934021656806176, 0.4985014985014985]"
      ]
     },
     "execution_count": 10,
     "metadata": {},
     "output_type": "execute_result"
    }
   ],
   "source": [
    "model.evaluate(X1, labels1, batch_size=128)"
   ]
  },
  {
   "cell_type": "code",
   "execution_count": null,
   "metadata": {},
   "outputs": [],
   "source": []
  },
  {
   "cell_type": "code",
   "execution_count": null,
   "metadata": {},
   "outputs": [],
   "source": []
  }
 ],
 "metadata": {
  "kernelspec": {
   "display_name": "Python 3",
   "language": "python",
   "name": "python3"
  },
  "language_info": {
   "codemirror_mode": {
    "name": "ipython",
    "version": 3
   },
   "file_extension": ".py",
   "mimetype": "text/x-python",
   "name": "python",
   "nbconvert_exporter": "python",
   "pygments_lexer": "ipython3",
   "version": "3.6.4"
  }
 },
 "nbformat": 4,
 "nbformat_minor": 2
}
