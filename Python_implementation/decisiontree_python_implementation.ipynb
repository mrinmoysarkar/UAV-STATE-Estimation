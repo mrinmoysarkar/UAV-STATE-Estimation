{
 "cells": [
  {
   "cell_type": "code",
   "execution_count": 69,
   "metadata": {},
   "outputs": [],
   "source": [
    "from sklearn import tree  \n",
    "from sklearn.externals import joblib\n",
    "import pydotplus\n",
    "from sklearn.datasets import load_iris\n",
    "import collections\n",
    "import pandas as pd\n",
    "import numpy as np\n",
    "import matplotlib.pyplot as plt\n",
    "import random\n",
    "from sklearn.metrics import precision_recall_fscore_support\n",
    "from sklearn.metrics import confusion_matrix\n",
    "from sklearn.model_selection import train_test_split\n",
    "from sklearn import preprocessing\n",
    "import itertools\n",
    "#import graphviz \n",
    "%matplotlib inline\n",
    "\n",
    "def plot_confusion_matrix(cm, classes,\n",
    "                          normalize=False,\n",
    "                          title='Confusion matrix',\n",
    "                          cmap=plt.cm.Blues):\n",
    "    \"\"\"\n",
    "    This function prints and plots the confusion matrix.\n",
    "    Normalization can be applied by setting `normalize=True`.\n",
    "    \"\"\"\n",
    "    if normalize:\n",
    "        cm = cm.astype('float') / cm.sum(axis=1)[:, np.newaxis]\n",
    "        print(\"Normalized confusion matrix\")\n",
    "    else:\n",
    "        print('Confusion matrix, without normalization')\n",
    "\n",
    "    print(cm)\n",
    "\n",
    "    plt.imshow(cm, interpolation='nearest', cmap=cmap)\n",
    "    plt.title(title)\n",
    "    plt.colorbar()\n",
    "    tick_marks = np.arange(len(classes))\n",
    "    plt.xticks(tick_marks, classes, rotation=90)\n",
    "    plt.yticks(tick_marks, classes)\n",
    "\n",
    "    fmt = '.2f' if normalize else 'd'\n",
    "    thresh = cm.max() / 2.\n",
    "    for i, j in itertools.product(range(cm.shape[0]), range(cm.shape[1])):\n",
    "        plt.text(j, i, format(cm[i, j], fmt),\n",
    "                 horizontalalignment=\"center\",\n",
    "                 color=\"white\" if cm[i, j] > thresh else \"black\")\n",
    "\n",
    "    plt.tight_layout()\n",
    "    plt.ylabel('True label')\n",
    "    plt.xlabel('Predicted label')\n",
    "    return cm\n",
    "\n",
    "def get_dataset(file_name,data_class_name_num,data_class_name):\n",
    "    data = pd.read_csv(file_name)\n",
    "    data = data.reset_index(drop=True)\n",
    "    data = data.dropna()\n",
    "    X = data.iloc[:,0:4]\n",
    "    X = X.reset_index(drop=True)\n",
    "    X = X.dropna()\n",
    "    Y = data.iloc[:,-1]\n",
    "    Y = Y.replace(data_class_name_num, data_class_name)\n",
    "    Y = Y.reset_index(drop=True)\n",
    "    Y = Y.dropna()\n",
    "\n",
    "    min_max_scaler = preprocessing.MinMaxScaler()\n",
    "    values = X.values\n",
    "    values_scaled = min_max_scaler.fit_transform(values)\n",
    "#     X = pd.DataFrame(values_scaled)\n",
    "#     print(df.head())\n",
    "    return X,Y\n",
    "\n"
   ]
  },
  {
   "cell_type": "code",
   "execution_count": 70,
   "metadata": {},
   "outputs": [
    {
     "name": "stdout",
     "output_type": "stream",
     "text": [
      "Real Data:  Hold:  9862  Takeoff:  501  Hover:  1767  Search:  1251  Land:  598\n",
      "Simulation Data:  Hold:  28002  Takeoff:  2199  Hover:  12638  Search:  13970  Land:  3065\n"
     ]
    }
   ],
   "source": [
    "own_data = True\n",
    "experiment = 1\n",
    "data_feature_names = [ 'altitude', 'vel_x', 'vel_y', 'vel_z' ]\n",
    "data_class_name_num = [1, 2, 3, 4, 5]\n",
    "data_class_name = ['Hold', 'Takeoff', 'Hover', 'Search', 'Land']\n",
    "\n",
    "data_feature_names_gtri = [ 'roll', 'pitch', 'yaw', 'rollspeed','pitchspeed','yawspeed', 'xacc', 'yacc', 'zacc']\n",
    "data_class_name_num_gtri = [0, 1, 2, 3]\n",
    "data_class_name_gtri = ['Hold', 'Fly Orbit and Observe', 'Fly Search Pattern', 'Survey Target']\n",
    "\n",
    "\n",
    "datagtri = pd.read_csv('GTRIdataset.csv')\n",
    "datagtri = datagtri.dropna()\n",
    "gtriX = datagtri.iloc[:,1:10]\n",
    "gtriX = gtriX.reset_index(drop=True)\n",
    "gtriX = gtriX.dropna()\n",
    "gtriY = datagtri.iloc[:,10]\n",
    "gtriY = gtriY.replace(data_class_name_num_gtri, data_class_name_gtri)\n",
    "gtriY = gtriY.reset_index(drop=True)\n",
    "gtriY = gtriY.dropna()\n",
    "\n",
    "\n",
    "intelX,intelY = get_dataset('intelDroneData.csv',data_class_name_num,data_class_name)\n",
    "\n",
    "print('Real Data: ', 'Hold: ', len(intelY[intelY=='Hold']),\n",
    "      ' Takeoff: ', len(intelY[intelY=='Takeoff']),\n",
    "      ' Hover: ', len(intelY[intelY=='Hover']),\n",
    "      ' Search: ', len(intelY[intelY=='Search']),\n",
    "      ' Land: ', len(intelY[intelY=='Land']))\n",
    "\n",
    "simirisX,simirisY = get_dataset('datasetiris.csv',data_class_name_num,data_class_name)\n",
    "simsoloX,simsoloY = get_dataset('datasetsolo.csv',data_class_name_num,data_class_name)\n",
    "simX,simY = get_dataset('gazeboSimulationData.csv',data_class_name_num,data_class_name)\n",
    "\n",
    "simconcatX = pd.concat([simirisX,simsoloX,intelX],axis=0)\n",
    "simconcatY = pd.concat([simirisY,simsoloY,intelY],axis=0)\n",
    "\n",
    "# simX,simY = simsoloX,simsoloY\n",
    "# simX,simY = simirisX,simirisY\n",
    "simX,simY = simconcatX,simconcatY\n",
    "print('Simulation Data: ', 'Hold: ', len(simY[simY=='Hold']),\n",
    "      ' Takeoff: ', len(simY[simY=='Takeoff']),\n",
    "      ' Hover: ', len(simY[simY=='Hover']),\n",
    "      ' Search: ', len(simY[simY=='Search']),\n",
    "      ' Land: ', len(simY[simY=='Land']))"
   ]
  },
  {
   "cell_type": "code",
   "execution_count": 71,
   "metadata": {},
   "outputs": [
    {
     "name": "stdout",
     "output_type": "stream",
     "text": [
      "train accuracy:  0.9993419514313391  test accuracy:  0.9885359254434312  max depth:  None\n",
      "intel accuracy:  0.9968524214893769\n",
      "sim accuracy:  0.9938203560811036\n",
      "sim iris accuracy:  0.9931603299134983\n",
      "sim solo accuracy:  0.9926953981008035\n",
      "precision:  [1.   0.97 1.   0.98 0.98]\n",
      "recall:  [1.   0.98 0.99 0.98 0.97]\n",
      "Fscore:  [1.   0.98 0.99 0.98 0.97]\n",
      "support [14101  6267  1549  6900  1120]\n",
      "Confusion matrix, without normalization\n",
      "[[14086     0     3     0    12]\n",
      " [    0  6144     1   117     5]\n",
      " [    2    15  1528     2     2]\n",
      " [    0   152     0  6747     1]\n",
      " [   12    13     0    12  1083]]\n",
      "Normalized confusion matrix\n",
      "[[9.99e-01 0.00e+00 2.13e-04 0.00e+00 8.51e-04]\n",
      " [0.00e+00 9.80e-01 1.60e-04 1.87e-02 7.98e-04]\n",
      " [1.29e-03 9.68e-03 9.86e-01 1.29e-03 1.29e-03]\n",
      " [0.00e+00 2.20e-02 0.00e+00 9.78e-01 1.45e-04]\n",
      " [1.07e-02 1.16e-02 0.00e+00 1.07e-02 9.67e-01]]\n"
     ]
    },
    {
     "data": {
      "image/png": "[encoded data removed]",
      "text/plain": [
       "<Figure size 432x288 with 2 Axes>"
      ]
     },
     "metadata": {},
     "output_type": "display_data"
    },
    {
     "data": {
      "image/png": "[encoded data removed]",
      "text/plain": [
       "<Figure size 432x288 with 2 Axes>"
      ]
     },
     "metadata": {},
     "output_type": "display_data"
    }
   ],
   "source": [
    "# # to test gtri data\n",
    "# own_data = False\n",
    "# dataX = gtriX\n",
    "# dataY = gtriY\n",
    "# data_feature_names = data_feature_names_gtri\n",
    "# data_class_name = data_class_name_gtri\n",
    "\n",
    "# # to test intel drone data\n",
    "# dataX = intelX\n",
    "# dataY = intelY\n",
    "\n",
    "# #to test simulation data\n",
    "dataX = simX\n",
    "dataY = simY\n",
    "\n",
    "Noofrun = 10\n",
    "trainAccuracy = 0\n",
    "testAccuracy = 0\n",
    "for r in range(Noofrun):\n",
    "#     indx = [i for i in range(len(dataY))]\n",
    "#     random.shuffle(indx)\n",
    "    dataPartision = 0.5\n",
    "#     totaltrainsample = int(dataPartision*len(dataY))\n",
    "    trainX, testX, trainY, testY = train_test_split(dataX, dataY, \n",
    "                                                    test_size=dataPartision, \n",
    "                                                    random_state=np.random.randint(100))\n",
    "#     trainX = dataX.iloc[indx[0:totaltrainsample],:]\n",
    "    trainX = trainX.reset_index(drop=True)\n",
    "    trainX = trainX.dropna()\n",
    "#     trainX = dataY.iloc[indx[0:totaltrainsample]]\n",
    "    trainY = trainY.reset_index(drop=True)\n",
    "    trainY = trainY.dropna()\n",
    "\n",
    "#     testX = dataX.iloc[indx[totaltrainsample:],:]\n",
    "    testX = testX.reset_index(drop=True)\n",
    "    testX = testX.dropna()\n",
    "#     testY = dataY.iloc[indx[totaltrainsample:]]\n",
    "    testY = testY.reset_index(drop=True)\n",
    "    testY = testY.dropna()\n",
    "\n",
    "    clf = tree.DecisionTreeClassifier(criterion='gini',#'entropy',#'gini', \n",
    "                                      splitter='best', \n",
    "                                      max_depth=None,#default None \n",
    "                                      min_samples_split=2, \n",
    "                                      min_samples_leaf=1, \n",
    "                                      min_weight_fraction_leaf=0.0, \n",
    "                                      max_features=None, \n",
    "                                      random_state=None, \n",
    "                                      max_leaf_nodes=None, \n",
    "                                      min_impurity_decrease=0.0, \n",
    "                                      min_impurity_split=None, \n",
    "                                      class_weight=None, \n",
    "                                      presort=False)                                             \n",
    "\n",
    "\n",
    "    clf = clf.fit(trainX, trainY) \n",
    "    # # save the model for future use\n",
    "    # joblib.dump(clf, 'trainedModel.pkl', protocol=2)\n",
    "    # # clf = joblib.load('trainedModel.pkl') \n",
    "\n",
    "    trainAccuracy = trainAccuracy + clf.score(trainX, trainY)\n",
    "    testAccuracy = testAccuracy + clf.score(testX, testY)\n",
    "    maxDepth = clf.max_depth\n",
    "\n",
    "trainAccuracy = trainAccuracy/Noofrun\n",
    "testAccuracy = testAccuracy/Noofrun\n",
    "print('train accuracy: ', trainAccuracy, ' test accuracy: ', testAccuracy, ' max depth: ', maxDepth)\n",
    "\n",
    "if own_data:\n",
    "    intelAccuracy = clf.score(intelX, intelY)\n",
    "    print('intel accuracy: ', intelAccuracy)\n",
    "\n",
    "    simAccuracy = clf.score(simX, simY)\n",
    "    print('sim accuracy: ', simAccuracy)\n",
    "    \n",
    "    simirisAccuracy = clf.score(simirisX, simirisY)\n",
    "    print('sim iris accuracy: ', simirisAccuracy)\n",
    "    \n",
    "    simsoloAccuracy = clf.score(simsoloX, simsoloY)\n",
    "    print('sim solo accuracy: ', simsoloAccuracy)\n",
    "\n",
    "    \n",
    "if experiment == 1 or experiment == 4:\n",
    "    testY_pred = clf.predict(testX)\n",
    "    y_true = testY\n",
    "    y_pred = testY_pred\n",
    "elif experiment == 2:\n",
    "    testY_pred = clf.predict(intelX)\n",
    "    y_true = intelY\n",
    "    y_pred = testY_pred\n",
    "elif experiment == 3:\n",
    "    testY_pred = clf.predict(simX)\n",
    "    y_true = simY\n",
    "    y_pred = testY_pred\n",
    "        \n",
    "precision,recall,fbeta_score,support = precision_recall_fscore_support(y_true, \n",
    "                                                                       y_pred, \n",
    "                                                                       beta=1.0, \n",
    "                                                                       labels=None, \n",
    "                                                                       pos_label=1, \n",
    "                                                                       average=None, \n",
    "                                                                       warn_for=('precision', 'recall', 'f-score'), \n",
    "                                                                       sample_weight=None)\n",
    "print('precision: ', precision)\n",
    "print('recall: ', recall)\n",
    "print('Fscore: ', fbeta_score)\n",
    "print('support', support)\n",
    "\n",
    "# Compute confusion matrix\n",
    "cnf_matrix = confusion_matrix(y_true, y_pred)\n",
    "np.set_printoptions(precision=2)\n",
    "\n",
    "# Plot non-normalized confusion matrix\n",
    "plt.figure()\n",
    "cm_non_normalized = plot_confusion_matrix(cnf_matrix, classes=data_class_name,\n",
    "                      title='Confusion matrix, without normalization')\n",
    "\n",
    "# Plot normalized confusion matrix\n",
    "plt.figure()\n",
    "cm_normalized = plot_confusion_matrix(cnf_matrix, classes=data_class_name, normalize=True,\n",
    "                      title='Normalized confusion matrix')\n",
    "\n",
    "plt.show()\n",
    "\n"
   ]
  },
  {
   "cell_type": "code",
   "execution_count": 28,
   "metadata": {},
   "outputs": [
    {
     "data": {
      "text/plain": [
       "True"
      ]
     },
     "execution_count": 28,
     "metadata": {},
     "output_type": "execute_result"
    }
   ],
   "source": [
    "# Visualize data\n",
    "dot_data = tree.export_graphviz(clf,\n",
    "                                feature_names=data_feature_names,\n",
    "                                class_names=data_class_name,\n",
    "                                out_file=None,\n",
    "                                max_depth=None,\n",
    "                                leaves_parallel=False,\n",
    "                                filled=True,\n",
    "                                rounded=True,\n",
    "                                special_characters=True) \n",
    "                         \n",
    "graph = pydotplus.graph_from_dot_data(dot_data)\n",
    "\n",
    "colors = ('turquoise', 'orange')\n",
    "edges = collections.defaultdict(list)\n",
    "\n",
    "for edge in graph.get_edge_list():\n",
    "    edges[edge.get_source()].append(int(edge.get_destination()))\n",
    "\n",
    "for edge in edges:\n",
    "    edges[edge].sort()    \n",
    "    for i in range(2):\n",
    "        dest = graph.get_node(str(edges[edge][i]))[0]\n",
    "        dest.set_fillcolor(colors[i])\n",
    "\n",
    "graph.write_png('tree.png')"
   ]
  },
  {
   "cell_type": "code",
   "execution_count": 51,
   "metadata": {},
   "outputs": [
    {
     "name": "stdout",
     "output_type": "stream",
     "text": [
      "scenario accuracy:  0.999\n",
      "precision:  [1.   0.98 1.   1.   1.  ]\n",
      "recall:  [1. 1. 1. 1. 1.]\n",
      "Fscore:  [1.   0.99 1.   1.   1.  ]\n",
      "support [236  52  64 599  49]\n",
      "Confusion matrix, without normalization\n",
      "[[236   0   0   0   0]\n",
      " [  0  52   0   0   0]\n",
      " [  0   0  64   0   0]\n",
      " [  0   1   0 598   0]\n",
      " [  0   0   0   0  49]]\n",
      "Normalized confusion matrix\n",
      "[[1. 0. 0. 0. 0.]\n",
      " [0. 1. 0. 0. 0.]\n",
      " [0. 0. 1. 0. 0.]\n",
      " [0. 0. 0. 1. 0.]\n",
      " [0. 0. 0. 0. 1.]]\n"
     ]
    },
    {
     "data": {
      "image/png": "[encoded data removed]",
      "text/plain": [
       "<Figure size 432x288 with 2 Axes>"
      ]
     },
     "metadata": {},
     "output_type": "display_data"
    },
    {
     "data": {
      "image/png": "[encoded data removed]",
      "text/plain": [
       "<Figure size 432x288 with 2 Axes>"
      ]
     },
     "metadata": {},
     "output_type": "display_data"
    },
    {
     "name": "stdout",
     "output_type": "stream",
     "text": [
      "********************************REPORT********************************\n",
      "The experiment follows the true scenerio  99.9 %.\n",
      "Details: \n",
      "The experiment follows  Hold state     100.0 %,  \n",
      "\t\t\tTakeoff state  100.0 %,  \n",
      "\t\t\tHover state    100.0 %,  \n",
      "\t\t\tSearch state   99.83 %,  \n",
      "\t\t\tLand state     100.0 %. \n",
      "Recommendation: The following states need to be checked,  ['Search']\n",
      "******************************END REPORT******************************\n"
     ]
    },
    {
     "data": {
      "image/png": "[encoded data removed]",
      "text/plain": [
       "<Figure size 432x288 with 1 Axes>"
      ]
     },
     "metadata": {},
     "output_type": "display_data"
    }
   ],
   "source": [
    "# check a scenerio and generate report\n",
    "datascenario = pd.read_csv('dataset15.csv')\n",
    "datascenario = datascenario.dropna()\n",
    "scenarioX = datascenario.iloc[:,0:4]\n",
    "scenarioX = scenarioX.reset_index(drop=True)\n",
    "scenarioX = scenarioX.dropna()\n",
    "scenarioY = datascenario.iloc[:,-1]\n",
    "scenarioY = scenarioY.replace(data_class_name_num, data_class_name)\n",
    "scenarioY = scenarioY.reset_index(drop=True)\n",
    "scenarioY = scenarioY.dropna()\n",
    "\n",
    "\n",
    "scenarioY_pred = clf.predict(scenarioX)\n",
    "\n",
    "scenarioAccuracy = clf.score(scenarioX, scenarioY)\n",
    "print('scenario accuracy: ', scenarioAccuracy)\n",
    "\n",
    "y_true = scenarioY\n",
    "y_pred = scenarioY_pred\n",
    "        \n",
    "precision,recall,fbeta_score,support = precision_recall_fscore_support(y_true, \n",
    "                                                                       y_pred, \n",
    "                                                                       beta=1.0, \n",
    "                                                                       labels=None, \n",
    "                                                                       pos_label=1, \n",
    "                                                                       average=None, \n",
    "                                                                       warn_for=('precision', 'recall', 'f-score'), \n",
    "                                                                       sample_weight=None)\n",
    "print('precision: ', precision)\n",
    "print('recall: ', recall)\n",
    "print('Fscore: ', fbeta_score)\n",
    "print('support', support)\n",
    "\n",
    "# Compute confusion matrix\n",
    "cnf_matrix = confusion_matrix(y_true, y_pred)\n",
    "np.set_printoptions(precision=2)\n",
    "\n",
    "# Plot non-normalized confusion matrix\n",
    "plt.figure()\n",
    "cm_non_normalized = plot_confusion_matrix(cnf_matrix, classes=data_class_name,\n",
    "                      title='Confusion matrix, without normalization')\n",
    "\n",
    "# Plot normalized confusion matrix\n",
    "plt.figure()\n",
    "cm_normalized = plot_confusion_matrix(cnf_matrix, classes=data_class_name, normalize=True,\n",
    "                      title='Normalized confusion matrix')\n",
    "\n",
    "plt.show()\n",
    "\n",
    "y_true = y_true.replace(data_class_name, data_class_name_num)\n",
    "y_pred = pd.DataFrame(y_pred)\n",
    "y_pred = y_pred.replace(data_class_name, data_class_name_num)\n",
    "time = np.linspace(start=0,stop=17,num=len(y_true))\n",
    "\n",
    "\n",
    "reco = []\n",
    "for i in range(len(data_class_name)):\n",
    "    if cm_normalized[i,i] != 1.0:\n",
    "        reco.append(data_class_name[i])\n",
    "\n",
    "print('********************************REPORT********************************')\n",
    "print('The experiment follows the true scenerio ', scenarioAccuracy*100,'%.')\n",
    "print('Details: ')\n",
    "print('The experiment follows  Hold state    ', round(cm_normalized[0,0]*100,2),'%, ',\n",
    "                            '\\n\\t\\t\\tTakeoff state ', round(cm_normalized[1,1]*100,2),'%, ',\n",
    "                            '\\n\\t\\t\\tHover state   ', round(cm_normalized[2,2]*100,2),'%, ',\n",
    "                            '\\n\\t\\t\\tSearch state  ', round(cm_normalized[3,3]*100,2),'%, ',\n",
    "                            '\\n\\t\\t\\tLand state    ', round(cm_normalized[4,4]*100,2),'%. ')\n",
    "print('Recommendation: The following states need to be checked, ', reco)\n",
    "plt.figure()\n",
    "plt.plot(time, y_true,lw=10.0,label='True states')\n",
    "plt.plot(time, y_pred,lw=5.0,label='Predicted states')\n",
    "plt.xlabel('Time in second')\n",
    "plt.ylabel('States')\n",
    "plt.title('Plot of the states for the experiment')\n",
    "plt.legend()\n",
    "plt.grid()\n",
    "print('******************************END REPORT******************************')\n",
    "      \n",
    "\n",
    "# plt.plot(dataX.iloc[1:1000,3])"
   ]
  },
  {
   "cell_type": "code",
   "execution_count": 24,
   "metadata": {},
   "outputs": [
    {
     "name": "stdout",
     "output_type": "stream",
     "text": [
      "13979 (13979, 4)\n"
     ]
    }
   ],
   "source": [
    "print(len(intelY), intelX.shape)"
   ]
  },
  {
   "cell_type": "code",
   "execution_count": 10,
   "metadata": {},
   "outputs": [
    {
     "name": "stdout",
     "output_type": "stream",
     "text": [
      "12011\n"
     ]
    }
   ],
   "source": [
    "print(totaltrainsample)"
   ]
  },
  {
   "cell_type": "code",
   "execution_count": 6,
   "metadata": {},
   "outputs": [
    {
     "name": "stdout",
     "output_type": "stream",
     "text": [
      "[0.70651882 0.12447465 0.04363766 0.08942144 0.03594742]\n"
     ]
    }
   ],
   "source": [
    "datasamples = np.array([7901,1392,488,1000,402])\n",
    "print(datasamples/sum(datasamples))"
   ]
  },
  {
   "cell_type": "code",
   "execution_count": 8,
   "metadata": {},
   "outputs": [
    {
     "data": {
      "text/plain": [
       "3715"
      ]
     },
     "execution_count": 8,
     "metadata": {},
     "output_type": "execute_result"
    }
   ],
   "source": [
    "len(simY[simY=='Hold'])"
   ]
  },
  {
   "cell_type": "code",
   "execution_count": 15,
   "metadata": {},
   "outputs": [
    {
     "data": {
      "text/plain": [
       "array([ 0.13,  0.13,  0.13, ..., -0.08, -0.08, -0.08])"
      ]
     },
     "execution_count": 15,
     "metadata": {},
     "output_type": "execute_result"
    }
   ],
   "source": [
    "simX.iloc[:,1].values"
   ]
  },
  {
   "cell_type": "code",
   "execution_count": null,
   "metadata": {},
   "outputs": [],
   "source": []
  }
 ],
 "metadata": {
  "kernelspec": {
   "display_name": "Python 3",
   "language": "python",
   "name": "python3"
  },
  "language_info": {
   "codemirror_mode": {
    "name": "ipython",
    "version": 3
   },
   "file_extension": ".py",
   "mimetype": "text/x-python",
   "name": "python",
   "nbconvert_exporter": "python",
   "pygments_lexer": "ipython3",
   "version": "3.5.5"
  }
 },
 "nbformat": 4,
 "nbformat_minor": 2
}
