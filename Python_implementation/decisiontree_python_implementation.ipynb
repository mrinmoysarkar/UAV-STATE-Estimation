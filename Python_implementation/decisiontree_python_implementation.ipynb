{
 "cells": [
  {
   "cell_type": "code",
   "execution_count": 69,
   "metadata": {},
   "outputs": [
    {
     "name": "stdout",
     "output_type": "stream",
     "text": [
      "train accuracy:  0.9384730663558405  test accuracy:  0.926073926073926  max depth:  10\n",
      "intel accuracy:  0.8565705701409256\n"
     ]
    }
   ],
   "source": [
    "from sklearn import tree  \n",
    "import pydotplus\n",
    "from sklearn.datasets import load_iris\n",
    "import collections\n",
    "import pandas as pd\n",
    "import numpy as np\n",
    "import matplotlib.pyplot as plt\n",
    "import random\n",
    "#import graphviz \n",
    "\n",
    "\n",
    "data_feature_names = [ 'altitude', 'vel_x', 'vel_y', 'vel_z' ]\n",
    "data_class_name_num = [1, 2, 3, 4, 5]\n",
    "data_class_name = ['Hold', 'Takeoff', 'Hover', 'Search', 'Land']\n",
    "\n",
    "data_feature_names_gtri = [ 'roll', 'pitch', 'yaw', 'rollspeed','pitchspeed','yawspeed', 'xacc', 'yacc', 'zacc']\n",
    "data_class_name_num_gtri = [0, 1, 2, 3]\n",
    "data_class_name_gtri = ['Hold', 'Fly Orbit and Observe', 'Fly Search Pattern', 'Survey Target']\n",
    "\n",
    "\n",
    "datagtri = pd.read_csv('GTRIdataset.csv')\n",
    "datagtri = datagtri.dropna()\n",
    "gtriX = datagtri.iloc[:,1:10]\n",
    "gtriX = gtriX.reset_index(drop=True)\n",
    "gtriX = gtriX.dropna()\n",
    "gtriY = datagtri.iloc[:,10]\n",
    "gtriY = gtriY.replace(data_class_name_num_gtri, data_class_name_gtri)\n",
    "gtriY = gtriY.reset_index(drop=True)\n",
    "gtriY = gtriY.dropna()\n",
    "\n",
    "dataintel = pd.read_csv('intelDroneData.csv')\n",
    "dataintel = dataintel.dropna()\n",
    "intelX = dataintel.iloc[:,0:4]\n",
    "intelX = intelX.reset_index(drop=True)\n",
    "intelX = intelX.dropna()\n",
    "intelY = dataintel.iloc[:,-1]\n",
    "intelY = intelY.replace(data_class_name_num, data_class_name)\n",
    "intelY = intelY.reset_index(drop=True)\n",
    "intelY = intelY.dropna()\n",
    "\n",
    "datasim = pd.read_csv('gazeboSimulationData.csv')\n",
    "datasim = datasim.reset_index(drop=True)\n",
    "datasim = datasim.dropna()\n",
    "dataX = datasim.iloc[:,0:4]\n",
    "dataX = dataX.reset_index(drop=True)\n",
    "dataX = dataX.dropna()\n",
    "dataY = datasim.iloc[:,-1]\n",
    "dataY = dataY.replace(data_class_name_num, data_class_name)\n",
    "dataY = dataY.reset_index(drop=True)\n",
    "dataY = dataY.dropna()\n",
    "\n",
    "# # to test gtri data\n",
    "# dataX = gtriX\n",
    "# dataY = gtriY\n",
    "# data_feature_names = data_feature_names_gtri\n",
    "# data_class_name = data_class_name_gtri\n",
    "\n",
    "# # to test intel drone data\n",
    "# dataX = intelX\n",
    "# dataY = intelY\n",
    "\n",
    "indx = [i for i in range(len(dataY))]\n",
    "random.shuffle(indx)\n",
    "dataPartision = 0.8\n",
    "totaltrainsample = int(dataPartision*len(dataY))\n",
    "\n",
    "trainX = dataX.iloc[indx[0:totaltrainsample],:]\n",
    "trainX = trainX.reset_index(drop=True)\n",
    "trainX = trainX.dropna()\n",
    "trainY = dataY.iloc[indx[0:totaltrainsample]]\n",
    "trainY = trainY.reset_index(drop=True)\n",
    "trainY = trainY.dropna()\n",
    "\n",
    "testX = dataX.iloc[indx[totaltrainsample:],:]\n",
    "testX = testX.reset_index(drop=True)\n",
    "testX = testX.dropna()\n",
    "testY = dataY.iloc[indx[totaltrainsample:]]\n",
    "testY = testY.reset_index(drop=True)\n",
    "testY = testY.dropna()\n",
    "\n",
    "clf = tree.DecisionTreeClassifier(criterion='entropy',#'gini', \n",
    "                                  splitter='best', \n",
    "                                  max_depth=10,#default None \n",
    "                                  min_samples_split=2, \n",
    "                                  min_samples_leaf=1, \n",
    "                                  min_weight_fraction_leaf=0.0, \n",
    "                                  max_features=None, \n",
    "                                  random_state=None, \n",
    "                                  max_leaf_nodes=None, \n",
    "                                  min_impurity_decrease=0.0, \n",
    "                                  min_impurity_split=None, \n",
    "                                  class_weight=None, \n",
    "                                  presort=False)                                             \n",
    "\n",
    "#[height, hair-length, voice-pitch]                                             \n",
    "#X = [ [180, 15,0],                                                              \n",
    "#       [167, 42,1],                                                              \n",
    "#       [136, 35,1],                                                              \n",
    "#       [174, 15,0],                                                              \n",
    "#       [141, 28,1]]                                                              \n",
    "\n",
    "#Y = ['man', 'woman', 'woman', 'man', 'woman']  \n",
    "\n",
    "\n",
    "clf = clf.fit(trainX, trainY)                                                             \n",
    "#prediction = clf.predict([[133, 37,1]])                                         \n",
    "#print(prediction)  \n",
    "trainAccuracy = clf.score(trainX, trainY)\n",
    "testAccuracy = clf.score(testX, testY)\n",
    "maxDepth = clf.max_depth\n",
    "\n",
    "print('train accuracy: ', trainAccuracy, ' test accuracy: ', testAccuracy, ' max depth: ', maxDepth)\n",
    "\n",
    "intelAccuracy = clf.score(intelX, intelY)\n",
    "print('intel accuracy: ', intelAccuracy)"
   ]
  },
  {
   "cell_type": "code",
   "execution_count": 62,
   "metadata": {},
   "outputs": [
    {
     "data": {
      "text/plain": [
       "True"
      ]
     },
     "execution_count": 62,
     "metadata": {},
     "output_type": "execute_result"
    }
   ],
   "source": [
    "# Visualize data\n",
    "dot_data = tree.export_graphviz(clf,\n",
    "                                feature_names=data_feature_names,\n",
    "                                class_names=data_class_name,\n",
    "                                out_file=None,\n",
    "                                max_depth=None,\n",
    "                                leaves_parallel=False,\n",
    "                                filled=True,\n",
    "                                rounded=True,\n",
    "                                special_characters=True) \n",
    "                         \n",
    "graph = pydotplus.graph_from_dot_data(dot_data)\n",
    "\n",
    "colors = ('turquoise', 'orange')\n",
    "edges = collections.defaultdict(list)\n",
    "\n",
    "for edge in graph.get_edge_list():\n",
    "    edges[edge.get_source()].append(int(edge.get_destination()))\n",
    "\n",
    "for edge in edges:\n",
    "    edges[edge].sort()    \n",
    "    for i in range(2):\n",
    "        dest = graph.get_node(str(edges[edge][i]))[0]\n",
    "        dest.set_fillcolor(colors[i])\n",
    "\n",
    "graph.write_png('tree.png')"
   ]
  },
  {
   "cell_type": "code",
   "execution_count": 63,
   "metadata": {},
   "outputs": [
    {
     "data": {
      "text/plain": [
       "[<matplotlib.lines.Line2D at 0x212664bc2e8>]"
      ]
     },
     "execution_count": 63,
     "metadata": {},
     "output_type": "execute_result"
    },
    {
     "data": {
      "image/png": "[encoded data removed]",
      "text/plain": [
       "<matplotlib.figure.Figure at 0x2125d0dd4a8>"
      ]
     },
     "metadata": {},
     "output_type": "display_data"
    }
   ],
   "source": [
    "plt.plot(dataX.iloc[1:1000,3])"
   ]
  },
  {
   "cell_type": "code",
   "execution_count": 55,
   "metadata": {},
   "outputs": [
    {
     "name": "stdout",
     "output_type": "stream",
     "text": [
      "13979 (13979, 4)\n"
     ]
    }
   ],
   "source": [
    "print(len(intelY), intelX.shape)"
   ]
  },
  {
   "cell_type": "code",
   "execution_count": 10,
   "metadata": {},
   "outputs": [
    {
     "name": "stdout",
     "output_type": "stream",
     "text": [
      "12011\n"
     ]
    }
   ],
   "source": [
    "print(totaltrainsample)"
   ]
  },
  {
   "cell_type": "code",
   "execution_count": null,
   "metadata": {},
   "outputs": [],
   "source": []
  }
 ],
 "metadata": {
  "kernelspec": {
   "display_name": "Python 3",
   "language": "python",
   "name": "python3"
  },
  "language_info": {
   "codemirror_mode": {
    "name": "ipython",
    "version": 3
   },
   "file_extension": ".py",
   "mimetype": "text/x-python",
   "name": "python",
   "nbconvert_exporter": "python",
   "pygments_lexer": "ipython3",
   "version": "3.6.4"
  }
 },
 "nbformat": 4,
 "nbformat_minor": 2
}
